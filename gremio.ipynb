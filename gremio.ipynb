{
 "cells": [
  {
   "cell_type": "code",
   "execution_count": 7,
   "metadata": {},
   "outputs": [],
   "source": [
    "from scipy import stats\n",
    "import pandas as pd"
   ]
  },
  {
   "cell_type": "code",
   "execution_count": 8,
   "metadata": {},
   "outputs": [],
   "source": [
    "df_serieb_2022 = pd.read_csv('Dados/gremio_serieb_2022.csv')\n",
    "df_seriea_2023 = pd.read_csv('Dados/gremio_seriea_2023.csv')"
   ]
  },
  {
   "cell_type": "code",
   "execution_count": 9,
   "metadata": {},
   "outputs": [
    {
     "name": "stdout",
     "output_type": "stream",
     "text": [
      "O P Valor vale 0.6833196001023236\n",
      "E o módulo da diferença é 0.6333196001023236\n",
      "A diferença entre as médias dos saldos de gols em 2022 e 2023 não é estatisticamente significativa.\n",
      "Falhamos em rejeitar a hipótese nula.\n"
     ]
    }
   ],
   "source": [
    "t_stat, p_value = stats.ttest_ind(df_serieb_2022['SG'], df_seriea_2023['SG'])\n",
    "alfa = 0.05\n",
    "\n",
    "if p_value < alfa:\n",
    "    print(f\"O P Valor vale {p_value}\")\n",
    "    print(f\"E o módulo da diferença é {alfa - p_value}\")\n",
    "    print(f\"A diferença entre as médias dos saldos de gols em 2022 e 2023 é estatisticamente significativa.\")\n",
    "    print(\"Rejeitamos a hipótese nula.\")\n",
    "else:\n",
    "    print(f\"O P Valor vale {p_value}\")\n",
    "    print(f\"E o módulo da diferença é {p_value - alfa}\")\n",
    "    print(f\"A diferença entre as médias dos saldos de gols em 2022 e 2023 não é estatisticamente significativa.\")\n",
    "    print(\"Falhamos em rejeitar a hipótese nula.\")"
   ]
  },
  {
   "cell_type": "code",
   "execution_count": 10,
   "metadata": {},
   "outputs": [
    {
     "name": "stdout",
     "output_type": "stream",
     "text": [
      "O P Valor vale 0.07322954890965923\n",
      "E o módulo da diferença é 0.023229548909659226\n",
      "A diferença entre as médias dos gols prós em 2022 e 2023 não é estatisticamente significativa.\n",
      "Falhamos em rejeitar a hipótese nula.\n"
     ]
    }
   ],
   "source": [
    "t_stat, p_value = stats.ttest_ind(df_serieb_2022['GP'], df_seriea_2023['GP'])\n",
    "alfa = 0.05\n",
    "\n",
    "if p_value < alfa:\n",
    "    print(f\"O P Valor vale {p_value}\")\n",
    "    print(f\"E o módulo da diferença é {alfa - p_value}\")\n",
    "    print(f\"A diferença entre as médias dos gols prós em 2022 e 2023 é estatisticamente significativa.\")\n",
    "    print(\"Rejeitamos a hipótese nula.\")\n",
    "else:\n",
    "    print(f\"O P Valor vale {p_value}\")\n",
    "    print(f\"E o módulo da diferença é {p_value - alfa}\")\n",
    "    print(f\"A diferença entre as médias dos gols prós em 2022 e 2023 não é estatisticamente significativa.\")\n",
    "    print(\"Falhamos em rejeitar a hipótese nula.\")"
   ]
  },
  {
   "cell_type": "code",
   "execution_count": 11,
   "metadata": {},
   "outputs": [
    {
     "name": "stdout",
     "output_type": "stream",
     "text": [
      "O P Valor vale 0.0033197737608746314\n",
      "E o módulo da diferença é 0.04668022623912537\n",
      "A diferença entre as médias dos gols contras em 2022 e 2023 é estatisticamente significativa.\n",
      "Rejeitamos a hipótese nula.\n"
     ]
    }
   ],
   "source": [
    "t_stat, p_value = stats.ttest_ind(df_serieb_2022['GC'], df_seriea_2023['GC'])\n",
    "alfa = 0.05\n",
    "\n",
    "if p_value < alfa:\n",
    "    print(f\"O P Valor vale {p_value}\")\n",
    "    print(f\"E o módulo da diferença é {alfa - p_value}\")\n",
    "    print(f\"A diferença entre as médias dos gols contras em 2022 e 2023 é estatisticamente significativa.\")\n",
    "    print(\"Rejeitamos a hipótese nula.\")\n",
    "else:\n",
    "    print(f\"O P Valor vale {p_value}\")\n",
    "    print(f\"E o módulo da diferença é {p_value - alfa}\")\n",
    "    print(f\"A diferença entre as médias dos gols contras em 2022 e 2023 não é estatisticamente significativa.\")\n",
    "    print(\"Falhamos em rejeitar a hipótese nula.\")"
   ]
  },
  {
   "cell_type": "code",
   "execution_count": 12,
   "metadata": {},
   "outputs": [
    {
     "name": "stdout",
     "output_type": "stream",
     "text": [
      "O P Valor vale 1.0\n",
      "E o módulo da diferença é 0.95\n",
      "A diferença entre as médias dos pontos em 2022 e 2023 não é estatisticamente significativa.\n",
      "Falhamos em rejeitar a hipótese nula.\n"
     ]
    }
   ],
   "source": [
    "t_stat, p_value = stats.ttest_ind(df_serieb_2022['P'], df_seriea_2023['P'])\n",
    "alfa = 0.05\n",
    "\n",
    "if p_value < alfa:\n",
    "    print(f\"O P Valor vale {p_value}\")\n",
    "    print(f\"E o módulo da diferença é {alfa - p_value}\")\n",
    "    print(f\"A diferença entre as médias dos pontos em 2022 e 2023 é estatisticamente significativa.\")\n",
    "    print(\"Rejeitamos a hipótese nula.\")\n",
    "else:\n",
    "    print(f\"O P Valor vale {p_value}\")\n",
    "    print(f\"E o módulo da diferença é {p_value - alfa}\")\n",
    "    print(f\"A diferença entre as médias dos pontos em 2022 e 2023 não é estatisticamente significativa.\")\n",
    "    print(\"Falhamos em rejeitar a hipótese nula.\")"
   ]
  }
 ],
 "metadata": {
  "kernelspec": {
   "display_name": ".venv",
   "language": "python",
   "name": "python3"
  },
  "language_info": {
   "codemirror_mode": {
    "name": "ipython",
    "version": 3
   },
   "file_extension": ".py",
   "mimetype": "text/x-python",
   "name": "python",
   "nbconvert_exporter": "python",
   "pygments_lexer": "ipython3",
   "version": "3.11.4"
  }
 },
 "nbformat": 4,
 "nbformat_minor": 2
}
