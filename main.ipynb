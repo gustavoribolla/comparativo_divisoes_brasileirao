{
 "cells": [
  {
   "cell_type": "code",
   "execution_count": 14,
   "metadata": {},
   "outputs": [],
   "source": [
    "import numpy as np\n",
    "from scipy import stats\n",
    "import pandas as pd"
   ]
  },
  {
   "cell_type": "code",
   "execution_count": 15,
   "metadata": {},
   "outputs": [],
   "source": [
    "df_serieb_2022 = pd.read_csv('Dados/cruzeiro_serieb_2022.csv')\n",
    "df_seriea_2023 = pd.read_csv('Dados/cruzeiro_seriea_2023.csv')"
   ]
  },
  {
   "cell_type": "code",
   "execution_count": 16,
   "metadata": {},
   "outputs": [
    {
     "name": "stdout",
     "output_type": "stream",
     "text": [
      "0.046325946873641104\n",
      "A diferença entre as médias dos saldos de gols em 2022 e 2023 é estatisticamente significativa.\n",
      "Rejeitamos a hipótese nula.\n"
     ]
    }
   ],
   "source": [
    "t_stat, p_value = stats.ttest_ind(df_serieb_2022['SG'], df_seriea_2023['SG'])\n",
    "alfa = 0.05\n",
    "\n",
    "if p_value < alfa:\n",
    "    print(p_value)\n",
    "    print(f\"A diferença entre as médias dos saldos de gols em 2022 e 2023 é estatisticamente significativa.\")\n",
    "    print(\"Rejeitamos a hipótese nula.\")\n",
    "else:\n",
    "    print(p_value)\n",
    "    print(f\"A diferença entre as médias dos saldos de gols em 2022 e 2023 não é estatisticamente significativa.\")\n",
    "    print(\"Falhamos em rejeitar a hipótese nula.\")"
   ]
  },
  {
   "cell_type": "code",
   "execution_count": 17,
   "metadata": {},
   "outputs": [
    {
     "name": "stdout",
     "output_type": "stream",
     "text": [
      "0.11229241476996327\n",
      "A diferença entre as médias dos gols prós em 2022 e 2023 não é estatisticamente significativa.\n",
      "Falhamos em rejeitar a hipótese nula.\n"
     ]
    }
   ],
   "source": [
    "t_stat, p_value = stats.ttest_ind(df_serieb_2022['GP'], df_seriea_2023['GP'])\n",
    "alfa = 0.05\n",
    "\n",
    "if p_value < alfa:\n",
    "    print(p_value)\n",
    "    print(f\"A diferença entre as médias dos gols prós em 2022 e 2023 é estatisticamente significativa.\")\n",
    "    print(\"Rejeitamos a hipótese nula.\")\n",
    "else:\n",
    "    print(p_value)\n",
    "    print(f\"A diferença entre as médias dos gols prós em 2022 e 2023 não é estatisticamente significativa.\")\n",
    "    print(\"Falhamos em rejeitar a hipótese nula.\")"
   ]
  },
  {
   "cell_type": "code",
   "execution_count": 18,
   "metadata": {},
   "outputs": [
    {
     "name": "stdout",
     "output_type": "stream",
     "text": [
      "0.14365878972464066\n",
      "A diferença entre as médias dos gols contras em 2022 e 2023 não é estatisticamente significativa.\n",
      "Falhamos em rejeitar a hipótese nula.\n"
     ]
    }
   ],
   "source": [
    "t_stat, p_value = stats.ttest_ind(df_serieb_2022['GC'], df_seriea_2023['GC'])\n",
    "alfa = 0.05\n",
    "\n",
    "if p_value < alfa:\n",
    "    print(p_value)\n",
    "    print(f\"A diferença entre as médias dos gols contras em 2022 e 2023 é estatisticamente significativa.\")\n",
    "    print(\"Rejeitamos a hipótese nula.\")\n",
    "else:\n",
    "    print(p_value)\n",
    "    print(f\"A diferença entre as médias dos gols contras em 2022 e 2023 não é estatisticamente significativa.\")\n",
    "    print(\"Falhamos em rejeitar a hipótese nula.\")"
   ]
  }
 ],
 "metadata": {
  "kernelspec": {
   "display_name": ".venv",
   "language": "python",
   "name": "python3"
  },
  "language_info": {
   "codemirror_mode": {
    "name": "ipython",
    "version": 3
   },
   "file_extension": ".py",
   "mimetype": "text/x-python",
   "name": "python",
   "nbconvert_exporter": "python",
   "pygments_lexer": "ipython3",
   "version": "3.11.4"
  }
 },
 "nbformat": 4,
 "nbformat_minor": 2
}
